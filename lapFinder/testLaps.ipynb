{
 "cells": [
  {
   "cell_type": "code",
   "execution_count": 7,
   "metadata": {},
   "outputs": [
    {
     "name": "stderr",
     "output_type": "stream",
     "text": [
      "C:\\Users\\marti\\AppData\\Local\\Temp\\ipykernel_3388\\3127844198.py:12: DtypeWarning: Columns (0) have mixed types. Specify dtype option on import or set low_memory=False.\n",
      "  log = pd.read_csv(\"exportedLog.csv\", delimiter=';')\n"
     ]
    },
    {
     "name": "stdout",
     "output_type": "stream",
     "text": [
      "Lap 1 0:01:43.900000\n",
      "Lap 2 0:01:38.500000\n",
      "Lap 3 0:01:37.600000\n",
      "Lap 4 0:01:37.600000\n"
     ]
    }
   ],
   "source": [
    "import json\n",
    "import pandas as pd\n",
    "import numpy as np\n",
    "from haversine import haversine, Unit\n",
    "import datetime\n",
    "\n",
    "#User Defined Variables\n",
    "circuitName = \"cartagena\"\n",
    "finishLineMeters = 5\n",
    "\n",
    "#Read Log file\n",
    "log = pd.read_csv(\"exportedLog.csv\", delimiter=';')\n",
    "\n",
    "#Import Circuits\n",
    "with open(\"../circuits.json\") as f:\n",
    "    circuits = json.load(f)\n",
    "\n",
    "finishLineLat = circuits.get(circuitName).get('FinishLine').get('latitude')\n",
    "finishLineLong = circuits.get(circuitName).get('FinishLine').get('longitude')\n",
    "\n",
    "#Remove i2m metaData Unwanted Lines\n",
    "log.drop(log.index[0], inplace=True)\n",
    "log.drop(log.index[0], inplace=True)\n",
    "log.drop(log.index[0], inplace=True)\n",
    "del log[log.columns[0]]\n",
    "\n",
    "log = log.apply(pd.to_numeric)\n",
    "\n",
    "time = log['Time [s]']\n",
    "lat = log['LAT [Degrees]']\n",
    "long = log['LONG [Degrees]']\n",
    "\n",
    "def isNearFinishLine(currentLat, currentLong):\n",
    "    finishline = (finishLineLat, finishLineLong)\n",
    "    currentLocation = (currentLat, currentLong)\n",
    "    if haversine(finishline, currentLocation, unit='m') < finishLineMeters:\n",
    "        return True\n",
    "    return False\n",
    "\n",
    "previousLapTime = 0\n",
    "lapsCompleted = 0\n",
    "\n",
    "for x in range(0, len(time)):\n",
    "    if ~np.isnan(lat.iloc[x]) and ~np.isnan(lat.iloc[x]) and isNearFinishLine(lat.iloc[x], long.iloc[x]):\n",
    "        lapTime = time.iloc[x] - previousLapTime\n",
    "        previousLapTime = time.iloc[x]\n",
    "        lapsCompleted = lapsCompleted + 1\n",
    "        print(\"Lap\", lapsCompleted, str(datetime.timedelta(seconds=lapTime)))"
   ]
  }
 ],
 "metadata": {
  "kernelspec": {
   "display_name": "Python 3.10.2 64-bit",
   "language": "python",
   "name": "python3"
  },
  "language_info": {
   "codemirror_mode": {
    "name": "ipython",
    "version": 3
   },
   "file_extension": ".py",
   "mimetype": "text/x-python",
   "name": "python",
   "nbconvert_exporter": "python",
   "pygments_lexer": "ipython3",
   "version": "3.10.9"
  },
  "orig_nbformat": 4,
  "vscode": {
   "interpreter": {
    "hash": "e7ccb2a435b656723dafd2fb88eb02b6891256ab8b77d2cf3044cea9811453d0"
   }
  }
 },
 "nbformat": 4,
 "nbformat_minor": 2
}
