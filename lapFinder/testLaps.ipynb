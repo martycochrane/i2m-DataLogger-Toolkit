{
 "cells": [
  {
   "cell_type": "code",
   "execution_count": 27,
   "metadata": {},
   "outputs": [
    {
     "name": "stderr",
     "output_type": "stream",
     "text": [
      "C:\\Users\\marti\\AppData\\Local\\Temp\\ipykernel_34732\\2285135240.py:13: DtypeWarning:\n",
      "\n",
      "Columns (0) have mixed types. Specify dtype option on import or set low_memory=False.\n",
      "\n"
     ]
    }
   ],
   "source": [
    "import json\n",
    "import pandas as pd\n",
    "from statistics import stdev\n",
    "import plotly.graph_objects as go\n",
    "from plotly.subplots import make_subplots\n",
    "\n",
    "#User Defined Variables\n",
    "circuitName = \"cartagena\"\n",
    "\n",
    "#Read Log file\n",
    "log = pd.read_csv(\"exportedLog.csv\", delimiter=';')\n",
    "\n",
    "#Import Circuits\n",
    "with open(\"circuits.json\") as f:\n",
    "    circuits = json.load(f)\n",
    "\n",
    "finishLineLat = circuits.get(circuitName).get('FinishLine').get('latitude')\n",
    "finishLineLong = circuits.get(circuitName).get('FinishLine').get('longitude')\n",
    "\n",
    "#Remove i2m metaData Unwanted Lines\n",
    "log.drop(log.index[0], inplace=True)\n",
    "log.drop(log.index[0], inplace=True)\n",
    "log.drop(log.index[0], inplace=True)\n",
    "del log[log.columns[0]]\n",
    "\n",
    "log = log.apply(pd.to_numeric)\n",
    "\n",
    "time = log['Time [s]']\n",
    "lat = log['']\n",
    "long = log['']\n",
    "\n",
    "for x in range(0, len(time)):\n",
    "    if log\n"
   ]
  }
 ],
 "metadata": {
  "kernelspec": {
   "display_name": "Python 3.10.2 64-bit",
   "language": "python",
   "name": "python3"
  },
  "language_info": {
   "codemirror_mode": {
    "name": "ipython",
    "version": 3
   },
   "file_extension": ".py",
   "mimetype": "text/x-python",
   "name": "python",
   "nbconvert_exporter": "python",
   "pygments_lexer": "ipython3",
   "version": "3.10.9"
  },
  "orig_nbformat": 4,
  "vscode": {
   "interpreter": {
    "hash": "e7ccb2a435b656723dafd2fb88eb02b6891256ab8b77d2cf3044cea9811453d0"
   }
  }
 },
 "nbformat": 4,
 "nbformat_minor": 2
}
