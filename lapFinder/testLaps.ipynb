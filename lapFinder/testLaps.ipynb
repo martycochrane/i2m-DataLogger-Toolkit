{
 "cells": [
  {
   "cell_type": "code",
   "execution_count": 4,
   "metadata": {},
   "outputs": [
    {
     "name": "stderr",
     "output_type": "stream",
     "text": [
      "C:\\Users\\marti\\AppData\\Local\\Temp\\ipykernel_3388\\3185407634.py:12: DtypeWarning: Columns (0) have mixed types. Specify dtype option on import or set low_memory=False.\n",
      "  log = pd.read_csv(\"exportedLog.csv\", delimiter=';')\n"
     ]
    },
    {
     "ename": "FileNotFoundError",
     "evalue": "[Errno 2] No such file or directory: '//circuits.json'",
     "output_type": "error",
     "traceback": [
      "\u001b[1;31m---------------------------------------------------------------------------\u001b[0m",
      "\u001b[1;31mFileNotFoundError\u001b[0m                         Traceback (most recent call last)",
      "Cell \u001b[1;32mIn[4], line 19\u001b[0m\n\u001b[0;32m     16\u001b[0m log \u001b[39m=\u001b[39m log\u001b[39m.\u001b[39mdropna(subset\u001b[39m=\u001b[39m[\u001b[39m'\u001b[39m\u001b[39mLONG [Degrees]\u001b[39m\u001b[39m'\u001b[39m])\n\u001b[0;32m     18\u001b[0m \u001b[39m#Import Circuits\u001b[39;00m\n\u001b[1;32m---> 19\u001b[0m \u001b[39mwith\u001b[39;00m \u001b[39mopen\u001b[39;49m(\u001b[39m\"\u001b[39;49m\u001b[39m//circuits.json\u001b[39;49m\u001b[39m\"\u001b[39;49m) \u001b[39mas\u001b[39;00m f:\n\u001b[0;32m     20\u001b[0m     circuits \u001b[39m=\u001b[39m json\u001b[39m.\u001b[39mload(f)\n\u001b[0;32m     22\u001b[0m finishLineLat \u001b[39m=\u001b[39m circuits\u001b[39m.\u001b[39mget(circuitName)\u001b[39m.\u001b[39mget(\u001b[39m'\u001b[39m\u001b[39mFinishLine\u001b[39m\u001b[39m'\u001b[39m)\u001b[39m.\u001b[39mget(\u001b[39m'\u001b[39m\u001b[39mlatitude\u001b[39m\u001b[39m'\u001b[39m)\n",
      "File \u001b[1;32m~\\AppData\\Roaming\\Python\\Python310\\site-packages\\IPython\\core\\interactiveshell.py:284\u001b[0m, in \u001b[0;36m_modified_open\u001b[1;34m(file, *args, **kwargs)\u001b[0m\n\u001b[0;32m    277\u001b[0m \u001b[39mif\u001b[39;00m file \u001b[39min\u001b[39;00m {\u001b[39m0\u001b[39m, \u001b[39m1\u001b[39m, \u001b[39m2\u001b[39m}:\n\u001b[0;32m    278\u001b[0m     \u001b[39mraise\u001b[39;00m \u001b[39mValueError\u001b[39;00m(\n\u001b[0;32m    279\u001b[0m         \u001b[39mf\u001b[39m\u001b[39m\"\u001b[39m\u001b[39mIPython won\u001b[39m\u001b[39m'\u001b[39m\u001b[39mt let you open fd=\u001b[39m\u001b[39m{\u001b[39;00mfile\u001b[39m}\u001b[39;00m\u001b[39m by default \u001b[39m\u001b[39m\"\u001b[39m\n\u001b[0;32m    280\u001b[0m         \u001b[39m\"\u001b[39m\u001b[39mas it is likely to crash IPython. If you know what you are doing, \u001b[39m\u001b[39m\"\u001b[39m\n\u001b[0;32m    281\u001b[0m         \u001b[39m\"\u001b[39m\u001b[39myou can use builtins\u001b[39m\u001b[39m'\u001b[39m\u001b[39m open.\u001b[39m\u001b[39m\"\u001b[39m\n\u001b[0;32m    282\u001b[0m     )\n\u001b[1;32m--> 284\u001b[0m \u001b[39mreturn\u001b[39;00m io_open(file, \u001b[39m*\u001b[39margs, \u001b[39m*\u001b[39m\u001b[39m*\u001b[39mkwargs)\n",
      "\u001b[1;31mFileNotFoundError\u001b[0m: [Errno 2] No such file or directory: '//circuits.json'"
     ]
    }
   ],
   "source": [
    "import json\n",
    "import pandas as pd\n",
    "import numpy as np\n",
    "from haversine import haversine, Unit\n",
    "import datetime\n",
    "\n",
    "#User Defined Variables\n",
    "circuitName = \"cartagena\"\n",
    "finishLineMeters = 5\n",
    "\n",
    "#Read Log file\n",
    "log = pd.read_csv(\"exportedLog.csv\", delimiter=';')\n",
    "\n",
    "#Remove lines with NaN's\n",
    "log = log.dropna(subset=['LAT [Degrees]'])\n",
    "log = log.dropna(subset=['LONG [Degrees]'])\n",
    "\n",
    "#Import Circuits\n",
    "with open(\"../circuits.json\") as f:\n",
    "    circuits = json.load(f)\n",
    "\n",
    "finishLineLat = circuits.get(circuitName).get('FinishLine').get('latitude')\n",
    "finishLineLong = circuits.get(circuitName).get('FinishLine').get('longitude')\n",
    "\n",
    "#Remove i2m metaData Unwanted Lines\n",
    "log.drop(log.index[0], inplace=True)\n",
    "log.drop(log.index[0], inplace=True)\n",
    "log.drop(log.index[0], inplace=True)\n",
    "del log[log.columns[0]]\n",
    "\n",
    "log = log.apply(pd.to_numeric)\n",
    "\n",
    "time = log['Time [s]']\n",
    "lat = log['LAT [Degrees]']\n",
    "long = log['LONG [Degrees]']\n",
    "\n",
    "def isNearFinishLine(currentLat, currentLong):\n",
    "    finishline = (finishLineLat, finishLineLong)\n",
    "    currentLocation = (currentLat, currentLong)\n",
    "    if haversine(finishline, currentLocation, unit='m') < finishLineMeters:\n",
    "        return True\n",
    "    return False\n",
    "\n",
    "previousLapTime = 0\n",
    "lapsCompleted = 0\n",
    "\n",
    "for x in range(0, len(time)):\n",
    "    if ~np.isnan(lat.iloc[x]) and isNearFinishLine(lat.iloc[x], long.iloc[x]):\n",
    "        lapTime = time.iloc[x] - previousLapTime\n",
    "        previousLapTime = time.iloc[x]\n",
    "        lapsCompleted = lapsCompleted + 1\n",
    "        print(\"Lap\", lapsCompleted, str(datetime.timedelta(seconds=lapTime)))"
   ]
  }
 ],
 "metadata": {
  "kernelspec": {
   "display_name": "Python 3.10.2 64-bit",
   "language": "python",
   "name": "python3"
  },
  "language_info": {
   "codemirror_mode": {
    "name": "ipython",
    "version": 3
   },
   "file_extension": ".py",
   "mimetype": "text/x-python",
   "name": "python",
   "nbconvert_exporter": "python",
   "pygments_lexer": "ipython3",
   "version": "3.10.9"
  },
  "orig_nbformat": 4,
  "vscode": {
   "interpreter": {
    "hash": "e7ccb2a435b656723dafd2fb88eb02b6891256ab8b77d2cf3044cea9811453d0"
   }
  }
 },
 "nbformat": 4,
 "nbformat_minor": 2
}
